{
 "cells": [
  {
   "cell_type": "markdown",
   "metadata": {},
   "source": [
    "##### quaternion to rotation matrix\n",
    "\n",
    "$ R_q = \\begin{bmatrix} 1-2cc-2dd & 2bc-2ad & 2bd+2ac \\\\ 2bc+2ad & 1-2bb-2dd & 2cd-2ab \\\\ 2bd-2ac & 2cd+2ab & 1-2bb-2cc \\end{bmatrix} $\n",
    "\n",
    "[AA](AxisAngleAlternative.md)\n"
   ]
  },
  {
   "cell_type": "markdown",
   "metadata": {},
   "source": [
    "##### quaternion to rotation matrix\n",
    "\n",
    "$\\color{red}{ R_q = \\underset{\\textstyle I}{\\begin{bmatrix}1&0&0\\\\0&1&0\\\\0&0&1\\end{bmatrix}} + 2{\\underset{\\textstyle ([u]_{\\times})^2}{\\begin{bmatrix}-\\ c^2-d^2&bc&bd\\\\bc&-\\ b^2-d^2&cd\\\\bd&cd&-\\ b^2-c^2\\end{bmatrix}}} + 2a\\underset{\\textstyle [u]_{\\times}}{\\begin{bmatrix}0&-d&c\\\\d&0&-b\\\\-c&b&0\\end{bmatrix}} }$\n",
    "\n",
    "$\\color{red}{ R_q = \\overbrace{\\underbrace{\\begin{bmatrix}1&0&0\\\\0&1&0\\\\0&0&1\\end{bmatrix}}_{\\textstyle I}}^{\\textstyle 1} + \\overbrace{\\underbrace{\\begin{bmatrix}-\\ c^2-d^2&bc&bd\\\\bc&-\\ b^2-d^2&cd\\\\bd&cd&-\\ b^2-c^2\\end{bmatrix}}_{\\textstyle ([u]_{\\times})^2}}^{\\textstyle 2} + \\overbrace{\\underbrace{\\begin{bmatrix}0&-d&c\\\\d&0&-b\\\\-c&b&0\\end{bmatrix}}_{\\textstyle [u]_{\\times}}}^{\\textstyle 2a} }$\n",
    "\n",
    "$$\\color{red}{ R_q = \\overbrace{\\underbrace{\\begin{bmatrix}1&0&0\\\\0&1&0\\\\0&0&1\\end{bmatrix}}_{\\textstyle I}}^{\\textstyle 1} + \\overbrace{\\underbrace{\\begin{bmatrix}-\\ c^2-d^2&bc&bd\\\\bc&-\\ b^2-d^2&cd\\\\bd&cd&-\\ b^2-c^2\\end{bmatrix}}_{\\textstyle ([u]_{\\times})^2}}^{\\textstyle 2} + \\overbrace{\\underbrace{\\begin{bmatrix}0&-d&c\\\\d&0&-b\\\\-c&b&0\\end{bmatrix}}_{\\textstyle [u]_{\\times}}}^{\\textstyle 2a} }$$\n",
    "\n",
    "$\\color{red}{ R_q = I + 2([u]_{\\times})^2 + 2a[u]_{\\times} }$\n",
    "\n",
    "12/12 or 9/15\n",
    "\n",
    "$ R_q = I + 2[u]_{\\times}([u]_{\\times} + aI) $\n"
   ]
  },
  {
   "cell_type": "code",
   "execution_count": 6,
   "metadata": {},
   "outputs": [],
   "source": [
    "def matrix():\n",
    "    # temp\n",
    "    tb = b * 2; tc = c * 2; td = d * 2; # \n",
    "    ab = tb * a; ac = tc * a; ad = td * a; # cross\n",
    "    bb = tb * b; cc = tc * c; dd = td * d; # dot\n",
    "    bc = tb * c; bd = tb * d; cd = tc * d; # dot\n",
    "    # matrix elements\n",
    "    xx = 1 - cc - dd; xy = bc - ad; xz = bd + ac; # x' row\n",
    "    yx = bc + ad; yy = 1 - bb - dd; yz = cd - ab; # y' row\n",
    "    zx = bd - ac; zy = cd + ab; zz = 1 - bb - cc; # z' row\n",
    "    # 12 multiplications\n",
    "    # 12 additions/subtractions"
   ]
  },
  {
   "cell_type": "markdown",
   "metadata": {},
   "source": [
    "##### quaternion to rotate vector\n",
    "\n",
    "$ \\vec{v'} = q\\vec{v}q^{-1} = (a+\\vec{u}) \\ \\vec{v} \\ (a-\\vec{u}) = \\vec{v} + 2\\vec{u}\\times(\\vec{u}\\times\\vec{v}) + 2a(\\vec{u}\\times\\vec{v}) $\n"
   ]
  },
  {
   "cell_type": "code",
   "execution_count": null,
   "metadata": {},
   "outputs": [],
   "source": [
    "def rotate():\n",
    "    # temp\n",
    "    tx = (c * z - d * y) * 2;\n",
    "    ty = (d * x - b * z) * 2;\n",
    "    tz = (b * y - c * x) * 2;\n",
    "    # vector\n",
    "    _x = x + (c * tz - d * ty) + a * tx; # x'\n",
    "    _y = y + (d * tx - b * tz) + a * ty; # y'\n",
    "    _z = z + (b * ty - c * tx) + a * tz; # z'\n",
    "    # 18 multiplications\n",
    "    # 12 additions/subtractions"
   ]
  },
  {
   "cell_type": "markdown",
   "metadata": {},
   "source": [
    "##### quaternion to rotate vector\n",
    "\n",
    "$ \\vec{v'} = q\\vec{v}q^{-1} = (a+\\vec{u}) \\ \\vec{v} \\ (a-\\vec{u}) = \\vec{v} + 2\\vec{u}\\times(\\vec{u}\\times\\vec{v}+a\\vec{v}) $\n"
   ]
  },
  {
   "cell_type": "code",
   "execution_count": 3,
   "metadata": {},
   "outputs": [],
   "source": [
    "def rotate():\n",
    "    # temp\n",
    "    tx = (c * z - d * y) + a * x;\n",
    "    ty = (d * x - b * z) + a * y;\n",
    "    tz = (b * y - c * x) + a * z;\n",
    "    # vector\n",
    "    _x = x + (c * tz - d * ty) * 2; # x'\n",
    "    _y = y + (d * tx - b * tz) * 2; # y'\n",
    "    _z = z + (b * ty - c * tx) * 2; # z'\n",
    "    # 18 multiplications\n",
    "    # 12 additions/subtractions"
   ]
  },
  {
   "cell_type": "code",
   "execution_count": null,
   "metadata": {},
   "outputs": [],
   "source": []
  }
 ],
 "metadata": {
  "kernelspec": {
   "display_name": "Python 3",
   "language": "python",
   "name": "python3"
  },
  "language_info": {
   "codemirror_mode": {
    "name": "ipython",
    "version": 3
   },
   "file_extension": ".py",
   "mimetype": "text/x-python",
   "name": "python",
   "nbconvert_exporter": "python",
   "pygments_lexer": "ipython3",
   "version": "3.7.3"
  }
 },
 "nbformat": 4,
 "nbformat_minor": 4
}
